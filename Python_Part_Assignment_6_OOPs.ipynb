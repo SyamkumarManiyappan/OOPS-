{
 "cells": [
  {
   "cell_type": "markdown",
   "id": "1246b28b-3d18-4031-a6f6-3fdbac80d54e",
   "metadata": {},
   "source": [
    "# Question 1: (5 Marks)\n",
    "Build a program to manage a university's course catalog. You want to define a base class Course that has the following properties:\n",
    "course_code: a string representing the course code (e.g., \"CS101\")\n",
    "course_name: a string representing the course name (e.g., \"Introduction to Computer Science\")\n",
    "credit_hours: an integer representing the credit hours for the course (e.g., 3)\n",
    "You also want to define two subclasses CoreCourse and ElectiveCourse, which inherit from the Course class.\n",
    "CoreCourse should have an additional property required_for_major which is a boolean representing whether the course is required for a particular major.\n",
    "ElectiveCourse should have an additional property elective_type which is a string representing the type of elective (e.g., \"general\", \"technical\", \"liberal arts\").\n"
   ]
  },
  {
   "cell_type": "code",
   "execution_count": 1,
   "id": "c76e8213-93ab-45bf-9877-0fabc9d4d7d8",
   "metadata": {},
   "outputs": [
    {
     "name": "stdout",
     "output_type": "stream",
     "text": [
      "CS101: Introduction to Computer Science, Credit Hours: 3, Required for major\n",
      "MATH210: Discrete Mathematics, Credit Hours: 3, Elective Type: technical\n"
     ]
    }
   ],
   "source": [
    "class Course:\n",
    "    def __init__(self, course_code, course_name, credit_hours):\n",
    "        self.course_code = course_code\n",
    "        self.course_name = course_name\n",
    "        self.credit_hours = credit_hours\n",
    "\n",
    "    def __str__(self):\n",
    "        return f\"{self.course_code}: {self.course_name}, Credit Hours: {self.credit_hours}\"\n",
    "\n",
    "class CoreCourse(Course):\n",
    "    def __init__(self, course_code, course_name, credit_hours, required_for_major):\n",
    "        super().__init__(course_code, course_name, credit_hours)\n",
    "        self.required_for_major = required_for_major\n",
    "\n",
    "    def __str__(self):\n",
    "        base_str = super().__str__()\n",
    "        required_str = \"Required for major\" if self.required_for_major else \"Not required for major\"\n",
    "        return f\"{base_str}, {required_str}\"\n",
    "\n",
    "class ElectiveCourse(Course):\n",
    "    def __init__(self, course_code, course_name, credit_hours, elective_type):\n",
    "        super().__init__(course_code, course_name, credit_hours)\n",
    "        self.elective_type = elective_type\n",
    "\n",
    "    def __str__(self):\n",
    "        base_str = super().__str__()\n",
    "        return f\"{base_str}, Elective Type: {self.elective_type}\"\n",
    "\n",
    "core_course_1 = CoreCourse(\"CS101\", \"Introduction to Computer Science\", 3, True)\n",
    "elective_course_1 = ElectiveCourse(\"MATH210\", \"Discrete Mathematics\", 3, \"technical\")\n",
    "\n",
    "print(core_course_1)\n",
    "print(elective_course_1)"
   ]
  },
  {
   "cell_type": "markdown",
   "id": "57f6e431-42b9-44d1-bb02-e3282a10e4d7",
   "metadata": {},
   "source": [
    "# Question 2: (5 Marks)\n",
    "Create a Python module named employee that contains a class Employee with attributes name, salary and methods get_name() and get_salary(). Write a program to use this module to create an object of the Employee class and display its name and salary.\n"
   ]
  },
  {
   "cell_type": "code",
   "execution_count": 2,
   "id": "9270c02d-a936-408d-9782-8a17fd2fa399",
   "metadata": {},
   "outputs": [
    {
     "name": "stdout",
     "output_type": "stream",
     "text": [
      "Employee Name: Akshay\n",
      "Employee Salary: 50000\n",
      "\n",
      "Employee Name: Amal Krishnan\n",
      "Employee Salary: 25000\n",
      "\n",
      "Employee Name: Bushra\n",
      "Employee Salary: 55000\n",
      "\n",
      "Employee Name: Bindhu\n",
      "Employee Salary: 49000\n",
      "\n"
     ]
    }
   ],
   "source": [
    "class Employee:\n",
    "    def __init__(self, name, salary):\n",
    "        self.name = name\n",
    "        self.salary = salary\n",
    "\n",
    "    def get_name(self):\n",
    "        return self.name\n",
    "\n",
    "    def get_salary(self):\n",
    "        return self.salary\n",
    "\n",
    "employees = [\n",
    "    Employee(\"Akshay\", 50000),\n",
    "    Employee(\"Amal Krishnan\", 25000),\n",
    "    Employee(\"Bushra\", 55000),\n",
    "    Employee(\"Bindhu\", 49000)\n",
    "]\n",
    "\n",
    "for emp in employees:\n",
    "    print(\"Employee Name:\", emp.get_name())\n",
    "    print(\"Employee Salary:\", emp.get_salary())\n",
    "    print()\n"
   ]
  },
  {
   "cell_type": "code",
   "execution_count": null,
   "id": "94ac8ca1-10d6-4ff9-ab27-dd696d148265",
   "metadata": {},
   "outputs": [],
   "source": []
  }
 ],
 "metadata": {
  "kernelspec": {
   "display_name": "Python 3 (ipykernel)",
   "language": "python",
   "name": "python3"
  },
  "language_info": {
   "codemirror_mode": {
    "name": "ipython",
    "version": 3
   },
   "file_extension": ".py",
   "mimetype": "text/x-python",
   "name": "python",
   "nbconvert_exporter": "python",
   "pygments_lexer": "ipython3",
   "version": "3.12.7"
  }
 },
 "nbformat": 4,
 "nbformat_minor": 5
}
